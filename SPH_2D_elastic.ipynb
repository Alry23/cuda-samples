{
  "nbformat": 4,
  "nbformat_minor": 0,
  "metadata": {
    "colab": {
      "private_outputs": true,
      "provenance": [],
      "toc_visible": true,
      "authorship_tag": "ABX9TyP38jt76kuRJg0QB9AXAmtB",
      "include_colab_link": true
    },
    "kernelspec": {
      "name": "python3",
      "display_name": "Python 3"
    },
    "language_info": {
      "name": "python"
    }
  },
  "cells": [
    {
      "cell_type": "markdown",
      "metadata": {
        "id": "view-in-github",
        "colab_type": "text"
      },
      "source": [
        "<a href=\"https://colab.research.google.com/github/Alry23/cuda-samples/blob/master/SPH_2D_elastic.ipynb\" target=\"_parent\"><img src=\"https://colab.research.google.com/assets/colab-badge.svg\" alt=\"Open In Colab\"/></a>"
      ]
    },
    {
      "cell_type": "code",
      "execution_count": null,
      "metadata": {
        "id": "bie6lnJnxRIU"
      },
      "outputs": [],
      "source": [
        "import numpy as np\n",
        "\n",
        "# Define the SPH class\n",
        "class SPH:\n",
        "    def __init__(self, mass, rho0, h, k, mu):\n",
        "        self.mass = mass\n",
        "        self.rho0 = rho0\n",
        "        self.h = h\n",
        "        self.k = k\n",
        "        self.mu = mu\n",
        "\n",
        "    def W(self, r):\n",
        "        q = np.linalg.norm(r) / self.h\n",
        "        if q <= 1:\n",
        "            return (10 / (7 * np.pi * self.h ** 2)) * (1 - 1.5 * q ** 2 + 0.75 * q ** 3)\n",
        "        elif q <= 2:\n",
        "            return (10 / (7 * np.pi * self.h ** 2)) * (0.25 * (2 - q) ** 3)\n",
        "        else:\n",
        "            return 0\n",
        "\n",
        "    def gradW(self, r):\n",
        "        q = np.linalg.norm(r) / self.h\n",
        "        if q <= 1:\n",
        "            return (-30 / (7 * np.pi * self.h ** 3)) * r * (q - 2)\n",
        "        elif q <= 2:\n",
        "            return (-30 / (7 * np.pi * self.h ** 3)) * r * (-0.25 * (2 - q) ** 2)\n",
        "        else:\n",
        "            return np.zeros_like(r)\n",
        "\n",
        "    def rho(self, r):\n",
        "        return self.mass * self.W(r)\n",
        "\n",
        "    def gradP(self, rho):\n",
        "        return self.k * (rho - self.rho0)\n",
        "\n",
        "    def laplV(self, v):\n",
        "        return self.mu * v\n",
        "\n",
        "# Define the simulation parameters\n",
        "mass = 1\n",
        "rho0 = 1000\n",
        "h = 1\n",
        "k = 1\n",
        "mu = 1\n",
        "\n",
        "# Create an instance of the SPH class\n",
        "sph = SPH(mass, rho0, h, k, mu)\n",
        "\n",
        "# Define the initial positions and velocities of the particles\n",
        "x = np.array([[0, 0], [1, 0], [0, 1], [1, 1]], dtype=np.float64)\n",
        "v = np.zeros_like(x)\n",
        "\n",
        "# Set the time step size\n",
        "dt = 0.1\n",
        "\n",
        "# Time integration loop\n",
        "for t in range(10):\n",
        "    # Compute the density and pressure at each particle\n",
        "    rho = np.zeros(x.shape[0])\n",
        "    for i in range(x.shape[0]):\n",
        "        for j in range(x.shape[0]):\n",
        "            if i != j:\n",
        "                rho[i] += sph.rho(x[i] - x[j])\n",
        "    P = sph.gradP(rho)\n",
        "\n",
        "    # Compute the acceleration of each particle\n",
        "    a = np.zeros_like(x)\n",
        "    for i in range(x.shape[0]):\n",
        "        for j in range(x.shape[0]):\n",
        "            if i != j:\n",
        "                a[i] += -sph.mass * (P[i] / rho[i] ** 2 + P[j] / rho[j] ** 2) * sph.gradW(x[i] - x[j])\n",
        "                a[i] += sph.laplV(v[i] - v[j]) * sph.gradW(x[i] - x[j])\n",
        "\n",
        "    # Update the positions and velocities of the particles\n",
        "    x += v * dt + 0.5 * a * dt ** 2\n",
        "    v += a * dt\n",
        "\n",
        "# Print the final positions of the particles\n",
        "print(x)\n"
      ]
    }
  ]
}